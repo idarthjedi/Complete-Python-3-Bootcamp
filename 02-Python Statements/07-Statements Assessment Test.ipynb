{
 "cells": [
  {
   "cell_type": "markdown",
   "metadata": {
    "collapsed": true
   },
   "source": [
    "# Statements Assessment Test\n",
    "Let's test your knowledge!"
   ]
  },
  {
   "cell_type": "markdown",
   "metadata": {},
   "source": [
    "_____\n",
    "**Use <code>for</code>, .split(), and <code>if</code> to create a Statement that will print out words that start with 's':**"
   ]
  },
  {
   "cell_type": "code",
   "execution_count": 3,
   "metadata": {},
   "outputs": [],
   "source": [
    "st = 'Print only the words that start with s in this sentence'"
   ]
  },
  {
   "cell_type": "code",
   "execution_count": 7,
   "metadata": {},
   "outputs": [
    {
     "name": "stdout",
     "output_type": "stream",
     "text": [
      "['start', 's', 'sentence']\n"
     ]
    }
   ],
   "source": [
    "#Code here\n",
    "results = [x for x in st.split(\" \") if x[0].lower() == \"s\"]\n",
    "print(results)\n"
   ]
  },
  {
   "cell_type": "markdown",
   "metadata": {},
   "source": [
    "______\n",
    "**Use range() to print all the even numbers from 0 to 10.**"
   ]
  },
  {
   "cell_type": "code",
   "execution_count": 13,
   "metadata": {},
   "outputs": [
    {
     "name": "stdout",
     "output_type": "stream",
     "text": [
      "Value [0, 2, 4, 6, 8, 10]\n"
     ]
    }
   ],
   "source": [
    "#Code Here\n",
    "print(\"Value {0}\".format([x for x in range(0,11) if x%2 == 0]))"
   ]
  },
  {
   "cell_type": "markdown",
   "metadata": {},
   "source": [
    "___\n",
    "**Use a List Comprehension to create a list of all numbers between 1 and 50 that are divisible by 3.**"
   ]
  },
  {
   "cell_type": "code",
   "execution_count": 14,
   "metadata": {},
   "outputs": [
    {
     "data": {
      "text/plain": [
       "[3, 6, 9, 12, 15, 18, 21, 24, 27, 30, 33, 36, 39, 42, 45, 48]"
      ]
     },
     "execution_count": 14,
     "metadata": {},
     "output_type": "execute_result"
    }
   ],
   "source": [
    "#Code in this cell\n",
    "[x for x in range(1,50) if x%3 == 0]"
   ]
  },
  {
   "cell_type": "markdown",
   "metadata": {},
   "source": [
    "_____\n",
    "**Go through the string below and if the length of a word is even print \"even!\"**"
   ]
  },
  {
   "cell_type": "code",
   "execution_count": 16,
   "metadata": {},
   "outputs": [],
   "source": [
    "st = 'Print every word in this sentence that has an even number of letters'\n"
   ]
  },
  {
   "cell_type": "code",
   "execution_count": 17,
   "metadata": {},
   "outputs": [
    {
     "data": {
      "text/plain": [
       "['word', 'in', 'this', 'sentence', 'that', 'an', 'even', 'number', 'of']"
      ]
     },
     "execution_count": 17,
     "metadata": {},
     "output_type": "execute_result"
    }
   ],
   "source": [
    "#Code in this cell\n",
    "[x for x in st.split(\" \") if len(x)%2 == 0]"
   ]
  },
  {
   "cell_type": "markdown",
   "metadata": {},
   "source": [
    "____\n",
    "**Write a program that prints the integers from 1 to 100. But for multiples of three print \"Fizz\" instead of the number, and for the multiples of five print \"Buzz\". For numbers which are multiples of both three and five print \"FizzBuzz\".**"
   ]
  },
  {
   "cell_type": "code",
   "execution_count": 22,
   "metadata": {},
   "outputs": [
    {
     "name": "stdout",
     "output_type": "stream",
     "text": [
      "Number 3 results in Fizz\n",
      "Number 5 results in Buzz\n",
      "Number 6 results in Fizz\n",
      "Number 9 results in Fizz\n",
      "Number 10 results in Buzz\n",
      "Number 12 results in Fizz\n",
      "Number 15 results in FizzBuz\n",
      "Number 18 results in Fizz\n",
      "Number 20 results in Buzz\n",
      "Number 21 results in Fizz\n",
      "Number 24 results in Fizz\n",
      "Number 25 results in Buzz\n",
      "Number 27 results in Fizz\n",
      "Number 30 results in FizzBuz\n",
      "Number 33 results in Fizz\n",
      "Number 35 results in Buzz\n",
      "Number 36 results in Fizz\n",
      "Number 39 results in Fizz\n",
      "Number 40 results in Buzz\n",
      "Number 42 results in Fizz\n",
      "Number 45 results in FizzBuz\n",
      "Number 48 results in Fizz\n",
      "Number 50 results in Buzz\n",
      "Number 51 results in Fizz\n",
      "Number 54 results in Fizz\n",
      "Number 55 results in Buzz\n",
      "Number 57 results in Fizz\n",
      "Number 60 results in FizzBuz\n",
      "Number 63 results in Fizz\n",
      "Number 65 results in Buzz\n",
      "Number 66 results in Fizz\n",
      "Number 69 results in Fizz\n",
      "Number 70 results in Buzz\n",
      "Number 72 results in Fizz\n",
      "Number 75 results in FizzBuz\n",
      "Number 78 results in Fizz\n",
      "Number 80 results in Buzz\n",
      "Number 81 results in Fizz\n",
      "Number 84 results in Fizz\n",
      "Number 85 results in Buzz\n",
      "Number 87 results in Fizz\n",
      "Number 90 results in FizzBuz\n",
      "Number 93 results in Fizz\n",
      "Number 95 results in Buzz\n",
      "Number 96 results in Fizz\n",
      "Number 99 results in Fizz\n"
     ]
    }
   ],
   "source": [
    "#Code in this cell\n",
    "total_numbers = range(1,100)\n",
    "\n",
    "\n",
    "for x in total_numbers:\n",
    "    display = \"\"\n",
    "    if (x%3 == 0) and (x%5 == 0):\n",
    "        display = \"FizzBuz\"\n",
    "    elif (x%3 == 0):\n",
    "        display = \"Fizz\"\n",
    "    elif (x%5 == 0):\n",
    "        display = \"Buzz\"\n",
    "    else:\n",
    "        pass\n",
    "    \n",
    "    if (display != \"\"):\n",
    "        print(\"Number {0} results in {1}\".format(x, display))\n",
    "        \n",
    "        "
   ]
  },
  {
   "cell_type": "markdown",
   "metadata": {},
   "source": [
    "____\n",
    "**Use List Comprehension to create a list of the first letters of every word in the string below:**"
   ]
  },
  {
   "cell_type": "code",
   "execution_count": 23,
   "metadata": {},
   "outputs": [],
   "source": [
    "st = 'Create a list of the first letters of every word in this string'"
   ]
  },
  {
   "cell_type": "code",
   "execution_count": 25,
   "metadata": {},
   "outputs": [
    {
     "data": {
      "text/plain": [
       "['C', 'a', 'l', 'o', 't', 'f', 'l', 'o', 'e', 'w', 'i', 't', 's']"
      ]
     },
     "execution_count": 25,
     "metadata": {},
     "output_type": "execute_result"
    }
   ],
   "source": [
    "#Code in this cell\n",
    "[x[0] for x in st.split(\" \")]"
   ]
  },
  {
   "cell_type": "markdown",
   "metadata": {},
   "source": [
    "### Great Job!"
   ]
  }
 ],
 "metadata": {
  "kernelspec": {
   "display_name": "Python 3",
   "language": "python",
   "name": "python3"
  },
  "language_info": {
   "codemirror_mode": {
    "name": "ipython",
    "version": 3
   },
   "file_extension": ".py",
   "mimetype": "text/x-python",
   "name": "python",
   "nbconvert_exporter": "python",
   "pygments_lexer": "ipython3",
   "version": "3.6.6+"
  }
 },
 "nbformat": 4,
 "nbformat_minor": 1
}
